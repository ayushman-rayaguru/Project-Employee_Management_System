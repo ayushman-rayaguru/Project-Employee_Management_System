{
 "metadata": {
  "language_info": {
   "codemirror_mode": {
    "name": "ipython",
    "version": 3
   },
   "file_extension": ".py",
   "mimetype": "text/x-python",
   "name": "python",
   "nbconvert_exporter": "python",
   "pygments_lexer": "ipython3",
   "version": "3.9.2"
  },
  "orig_nbformat": 4,
  "kernelspec": {
   "name": "python3",
   "display_name": "Python 3.9.2 64-bit"
  },
  "interpreter": {
   "hash": "2552e537dccdc3230efec8475707e7ccb386feb987f0ece1e8fc9cda57273c99"
  }
 },
 "nbformat": 4,
 "nbformat_minor": 2,
 "cells": [
  {
   "cell_type": "code",
   "execution_count": 34,
   "metadata": {},
   "outputs": [],
   "source": [
    "from tkinter import*\n",
    "from PIL import ImageTk\n",
    "from tkinter import messagebox as mb\n",
    "class Login:\n",
    "    def __init__(self,root):\n",
    "        self.root = root\n",
    "        self.root.title(\"Login System\")\n",
    "        self.root.geometry(\"800x600\")\n",
    "        self.root.resizable(False,False)\n",
    "        self.root.title(\"xyz DBMS\")\n",
    "        # BG image\n",
    "        #self.bg = ImageTk.PhotoImage(file = \"location/login.jpg\")\n",
    "        #self.bg_image = Label(self.root,image=self.bg).place(x=0,y=0,relwidth=1,relheight=1)\n",
    "\n",
    "        # Login Frame\n",
    "        Frame_login = Frame(self.root,bg = \"white\")\n",
    "        Frame_login.place(x = 50,y=50,height=340,width = 500)\n",
    "        title = Label(Frame_login,text=\"Login Here\",font=(\"Impact\",35,\"bold\"),fg=\"#d77337\",bg=\"white\").place(x=90,y=30)\n",
    "        desc = Label(Frame_login,text=\" xyz login area\",font=(\"Goudy old style\",15,\"bold\"),fg=\"#d25d17\",bg=\"white\").place(x=90,y=100)\n",
    "\n",
    "        lbl_user = Label(Frame_login,text=\" Username\",font=(\"Goudy old style\",15,\"bold\"),fg=\"gray\",bg=\"white\").place(x=90,y=140)\n",
    "        self.txt_user = Entry(Frame_login,font=(\"times new roman\",15),bg = \"lightgray\")\n",
    "        self.txt_user.place(x=90,y=170,width=350,height=35)\n",
    "\n",
    "        \n",
    "        lbl_pass = Label(Frame_login,text=\"Password\",font=(\"Goudy old style\",15,\"bold\"),fg=\"gray\",bg=\"white\").place(x=90,y=210)\n",
    "        self.txt_pass = Entry(Frame_login,font=(\"times new roman\",15),bg = \"lightgray\")\n",
    "        self.txt_pass.place(x=90,y=240,width=350,height=35)\n",
    "\n",
    "        forget_btn = Button(Frame_login,text=\"Forget Password?\",cursor = \"hand2\",bg = \"white\",fg =\"#d77337\",bd = 0,font = (\"times new roman\",12)).place(x=90,y=280)\n",
    "\n",
    "        Login_btn = Button(self.root,command =self.login_function ,cursor = \"hand2\",text=\"Login\",bg = \"white\",fg =\"#d77337\",bd = 0,font = (\"times new roman\",20)).place(x=300,y=470,width = 180,height = 40)\n",
    "\n",
    "    \n",
    "    def login_function(self):\n",
    "        if (self.txt_pass.get() ==\"\" or self.txt_user.get()==\"\"):\n",
    "            mb.showerror(\"Error\",\"All fields are required\",parent = self.root)\n",
    "        elif (self.txt_pass.get() !=\"1234\" or self.txt_user.get()!=\"Ayushman\"):\n",
    "            mb.showerror(\"Error\",\"Invalid Username/Password\",parent = self.root)\n",
    "        else:\n",
    "            mb.showinfo(\"Welcome\",\"Welcome\",parent = self.root)\n",
    "\n",
    "\n",
    "\n",
    "\n",
    "root=Tk()\n",
    "obj = Login(root)\n",
    "root.mainloop()\n",
    "\n"
   ]
  },
  {
   "cell_type": "code",
   "execution_count": 25,
   "metadata": {},
   "outputs": [],
   "source": []
  },
  {
   "cell_type": "code",
   "execution_count": null,
   "metadata": {},
   "outputs": [],
   "source": []
  }
 ]
}