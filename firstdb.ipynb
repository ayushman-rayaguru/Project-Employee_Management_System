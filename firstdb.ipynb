{
 "metadata": {
  "language_info": {
   "codemirror_mode": {
    "name": "ipython",
    "version": 3
   },
   "file_extension": ".py",
   "mimetype": "text/x-python",
   "name": "python",
   "nbconvert_exporter": "python",
   "pygments_lexer": "ipython3",
   "version": "3.9.2"
  },
  "orig_nbformat": 4,
  "kernelspec": {
   "name": "python3",
   "display_name": "Python 3.9.2 64-bit"
  },
  "interpreter": {
   "hash": "2552e537dccdc3230efec8475707e7ccb386feb987f0ece1e8fc9cda57273c99"
  }
 },
 "nbformat": 4,
 "nbformat_minor": 2,
 "cells": [
  {
   "cell_type": "code",
   "execution_count": 15,
   "metadata": {},
   "outputs": [],
   "source": [
    "import pyodbc"
   ]
  },
  {
   "cell_type": "code",
   "execution_count": 36,
   "metadata": {},
   "outputs": [],
   "source": [
    "def read(conn):\n",
    "    print(\"Read\")\n",
    "    cursor = conn.cursor()\n",
    "    cursor.execute(\"select * from dummy\")\n",
    "    for row in cursor:\n",
    "        print(f'row = {row}')\n",
    "    print()"
   ]
  },
  {
   "cell_type": "code",
   "execution_count": 37,
   "metadata": {},
   "outputs": [],
   "source": [
    "def create(conn):\n",
    "    print(\"Create\")\n",
    "    cursor = conn.cursor()\n",
    "    cursor.execute(\"insert into dummy(a,b) values(?,?);\",(32206,\"Ayushman\"))\n",
    "    conn.commit()\n",
    "    read(conn)"
   ]
  },
  {
   "cell_type": "code",
   "execution_count": 38,
   "metadata": {},
   "outputs": [],
   "source": [
    "def update(conn):\n",
    "    print(\"Update\")\n",
    "    cursor = conn.cursor()\n",
    "    cursor.execute(\"update dummy set b = ? where a = ?;\",(\"Madhav\",32206))\n",
    "    conn.commit()\n",
    "    read(conn)"
   ]
  },
  {
   "cell_type": "code",
   "execution_count": 39,
   "metadata": {},
   "outputs": [],
   "source": [
    "def delete(conn):\n",
    "    print(\"Delete\")\n",
    "    cursor = conn.cursor()\n",
    "    cursor.execute(\"delete from dummy where a = ?;\",(32206))\n",
    "    conn.commit()\n",
    "    read(conn)"
   ]
  },
  {
   "cell_type": "code",
   "execution_count": 40,
   "metadata": {},
   "outputs": [
    {
     "output_type": "stream",
     "name": "stdout",
     "text": [
      "connection done\n"
     ]
    }
   ],
   "source": [
    "conn = pyodbc.connect(\n",
    "    \"Driver={SQL server Native Client 11.0};\"\n",
    "    \"Server=AYUSHMAN\\AYUSHMSSQL;\"\n",
    "    \"Database=pyprj;\"\n",
    "    \"Trusted_Connection=yes;\"\n",
    "    )\n",
    "print(\"connection done\")"
   ]
  },
  {
   "cell_type": "code",
   "execution_count": 28,
   "metadata": {},
   "outputs": [
    {
     "output_type": "stream",
     "name": "stdout",
     "text": [
      "(32201, 'aaaa      ')\n(32202, 'bbbb      ')\n(32203, 'cccc      ')\n(32204, 'dddd      ')\n(32205, 'eeee      ')\n(32207, 'Ayush     ')\n"
     ]
    }
   ],
   "source": [
    "# other way to call select\n",
    "cursor = conn.cursor()\n",
    "cursor.execute(\"select * from dummy\")\n",
    "rows = cursor.fetchall()\n",
    "for row in rows:\n",
    "    print(row)"
   ]
  },
  {
   "cell_type": "code",
   "execution_count": 41,
   "metadata": {},
   "outputs": [
    {
     "output_type": "stream",
     "name": "stdout",
     "text": [
      "Read\nrow = (32201, 'aaaa      ')\nrow = (32202, 'bbbb      ')\nrow = (32203, 'cccc      ')\nrow = (32204, 'dddd      ')\nrow = (32205, 'eeee      ')\nrow = (32207, 'Ayush     ')\n\n"
     ]
    }
   ],
   "source": [
    "read(conn)"
   ]
  },
  {
   "cell_type": "code",
   "execution_count": null,
   "metadata": {},
   "outputs": [],
   "source": []
  },
  {
   "cell_type": "code",
   "execution_count": 42,
   "metadata": {},
   "outputs": [
    {
     "output_type": "stream",
     "name": "stdout",
     "text": [
      "Create\nRead\nrow = (32201, 'aaaa      ')\nrow = (32202, 'bbbb      ')\nrow = (32203, 'cccc      ')\nrow = (32204, 'dddd      ')\nrow = (32205, 'eeee      ')\nrow = (32207, 'Ayush     ')\nrow = (32206, 'Ayushman  ')\n\n"
     ]
    }
   ],
   "source": [
    "create(conn)"
   ]
  },
  {
   "cell_type": "code",
   "execution_count": 43,
   "metadata": {},
   "outputs": [
    {
     "output_type": "stream",
     "name": "stdout",
     "text": [
      "Update\nRead\nrow = (32201, 'aaaa      ')\nrow = (32202, 'bbbb      ')\nrow = (32203, 'cccc      ')\nrow = (32204, 'dddd      ')\nrow = (32205, 'eeee      ')\nrow = (32207, 'Ayush     ')\nrow = (32206, 'Madhav    ')\n\n"
     ]
    }
   ],
   "source": [
    "update(conn)"
   ]
  },
  {
   "cell_type": "code",
   "execution_count": 44,
   "metadata": {},
   "outputs": [
    {
     "output_type": "stream",
     "name": "stdout",
     "text": [
      "Delete\nRead\nrow = (32201, 'aaaa      ')\nrow = (32202, 'bbbb      ')\nrow = (32203, 'cccc      ')\nrow = (32204, 'dddd      ')\nrow = (32205, 'eeee      ')\nrow = (32207, 'Ayush     ')\n\n"
     ]
    }
   ],
   "source": [
    "delete(conn)"
   ]
  },
  {
   "cell_type": "code",
   "execution_count": null,
   "metadata": {},
   "outputs": [],
   "source": [
    "\"\"\"\n",
    "reimport pyodbc\n",
    "driver = 'SQL Server'\n",
    "server = '**server-name**'\n",
    "db1 = 'CorpApps'\n",
    "tcon = 'yes'\n",
    "uname = 'jnichol3'\n",
    "pword = '**my-password**'\n",
    "\n",
    "cnxn = pyodbc.connect('DRIVER={SQL Server};SERVER=server;DATABASE=db1;UID=uname;PWD=pword;Trusted_Connection=yes')\n",
    "cursor = cnxn.cursor()\n",
    "cursor.execute(\"select * from appaudit_q32013\")\n",
    "rows = cursor.fetchall()\n",
    "for row in rows:\n",
    "    print row\n",
    "\"\"\""
   ]
  },
  {
   "cell_type": "code",
   "execution_count": null,
   "metadata": {},
   "outputs": [],
   "source": []
  }
 ]
}